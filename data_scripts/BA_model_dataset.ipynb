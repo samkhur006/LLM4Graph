{
 "cells": [
  {
   "cell_type": "code",
   "execution_count": 47,
   "metadata": {},
   "outputs": [],
   "source": [
    "import json\n",
    "import random\n",
    "import copy"
   ]
  },
  {
   "cell_type": "code",
   "execution_count": 2,
   "metadata": {},
   "outputs": [],
   "source": [
    "random.seed(42)"
   ]
  },
  {
   "cell_type": "code",
   "execution_count": 95,
   "metadata": {},
   "outputs": [],
   "source": [
    "json_file =\"..//data/BA_model//BA_model_all_graphs.json\"\n",
    "edge_mask_probability = 0.4\n",
    "\n",
    "complete_datafile =\"../data/BA_model/complete_dataset.json\"\n",
    "train_datafile =\"../data/BA_model/train.json\"\n",
    "val_datafile =\"../data/BA_model/val.json\"\n",
    "test_datafile =\"../data/BA_model/test.json\""
   ]
  },
  {
   "cell_type": "code",
   "execution_count": 49,
   "metadata": {},
   "outputs": [],
   "source": [
    "with open(json_file, 'r') as json_file:\n",
    "    formatted_graphs = json.load(json_file)"
   ]
  },
  {
   "cell_type": "code",
   "execution_count": 40,
   "metadata": {},
   "outputs": [
    {
     "data": {
      "text/plain": [
       "{'0': [11, 10, 3, 8, 4, 6, 2, 13, 7, 1, 12, 9, 5],\n",
       " '1': [0, 6, 9],\n",
       " '2': [10, 8, 6, 11, 0, 7],\n",
       " '3': [6, 0, 11, 7],\n",
       " '4': [10, 0, 9, 13, 6],\n",
       " '5': [10, 8, 7, 12, 0],\n",
       " '6': [7, 4, 2, 3, 13, 1, 8, 0],\n",
       " '7': [9, 10, 3, 2, 0, 11, 13, 5, 12, 6, 8],\n",
       " '8': [9, 0, 6, 7, 2, 5],\n",
       " '9': [8, 7, 13, 1, 12, 4, 11, 0],\n",
       " '10': [5, 7, 2, 4, 0],\n",
       " '11': [12, 3, 0, 9, 7, 2],\n",
       " '12': [11, 5, 0, 7, 9],\n",
       " '13': [7, 0, 9, 4, 6]}"
      ]
     },
     "execution_count": 40,
     "metadata": {},
     "output_type": "execute_result"
    }
   ],
   "source": [
    "formatted_graphs['0']['graph']"
   ]
  },
  {
   "cell_type": "code",
   "execution_count": 60,
   "metadata": {},
   "outputs": [],
   "source": [
    "def mask(graph):\n",
    "    st = set()\n",
    "    for node, neighbours in graph.items():\n",
    "        node = int(node)\n",
    "        for neighbor in neighbours:\n",
    "            st.add((min(node,neighbor),max(node,neighbor)))\n",
    "    # print(\"edges are  \",st)\n",
    "    num_edges = len(st)\n",
    "    selected_pairs_count = int(edge_mask_probability * num_edges)\n",
    "    selected_pairs = random.sample(list(st), selected_pairs_count)\n",
    "    # print(\"masking these edges  \", selected_pairs)\n",
    "    for i, (first, second) in enumerate(selected_pairs):\n",
    "        if random.random() < 0.5:\n",
    "            selected_pairs[i] = (second, first)\n",
    "    masked_graph = copy.deepcopy(graph)\n",
    "    # print(\"original_graph is  \", graph)\n",
    "    masked_nodes = set()\n",
    "    for node, neighbours in masked_graph.items():\n",
    "        for i,neighbor in enumerate(neighbours):\n",
    "            pair = (int(node),neighbor)\n",
    "            if pair in selected_pairs:\n",
    "                masked_graph[node][i] = '_'\n",
    "                masked_nodes.add(int(node))\n",
    "    \n",
    "    # print(\"original_graph is  \", graph)\n",
    "    # print(\"masked_graph is  \", masked_graph)\n",
    "    return masked_graph, masked_nodes"
   ]
  },
  {
   "cell_type": "code",
   "execution_count": 63,
   "metadata": {},
   "outputs": [
    {
     "data": {
      "text/plain": [
       "({'0': [3, 1, '_'], '1': [0, '_'], '2': [0, 4], '3': [0, 4, 1], '4': [2, 3]},\n",
       " {0, 1})"
      ]
     },
     "execution_count": 63,
     "metadata": {},
     "output_type": "execute_result"
    }
   ],
   "source": [
    "G=formatted_graphs['3']['graph']\n",
    "# print(G)\n",
    "mask(G)"
   ]
  },
  {
   "cell_type": "code",
   "execution_count": 122,
   "metadata": {},
   "outputs": [],
   "source": [
    "def get_node_info(node, neighbours, out=False):\n",
    "    assert len(neighbours)>0\n",
    "    s=f\"Node {node} is connected to node\"\n",
    "    if len(neighbours)>1:\n",
    "        s+=\"s\"\n",
    "    s+=\" \"\n",
    "    # if out:\n",
    "    #     neighbours=sorted(neighbours)\n",
    "    for i in range(len(neighbours)):\n",
    "        if i==0:\n",
    "            s+=str(neighbours[i])\n",
    "        elif i==len(neighbours)-1:\n",
    "            s+=f\" and {neighbours[i]}\"\n",
    "        else:\n",
    "            s+=f\", {neighbours[i]}\"\n",
    "    s+=\".\\n\"\n",
    "    return s\n",
    "\n"
   ]
  },
  {
   "cell_type": "code",
   "execution_count": 123,
   "metadata": {},
   "outputs": [
    {
     "data": {
      "text/plain": [
       "'Node 5 is connected to nodes 0, _ , 2 and 3.\\n'"
      ]
     },
     "execution_count": 123,
     "metadata": {},
     "output_type": "execute_result"
    }
   ],
   "source": [
    "get_node_info(5,[0,'_ ',2,3])"
   ]
  },
  {
   "cell_type": "code",
   "execution_count": 124,
   "metadata": {},
   "outputs": [],
   "source": [
    "complete_dataset={}\n",
    "train_data = {}\n",
    "val_data = {}\n",
    "test_data = {}"
   ]
  },
  {
   "cell_type": "code",
   "execution_count": 125,
   "metadata": {},
   "outputs": [],
   "source": [
    "for idx, data in formatted_graphs.items():\n",
    "    difficulty = data['difficulty']\n",
    "    graph = data['graph']\n",
    "    masked_graph, nodes_masked = mask(graph)\n",
    "    while len(nodes_masked)==0:\n",
    "        print(\"ANARTH!! \")\n",
    "        masked_graph, nodes_masked = mask(graph)\n",
    "    nodes=[]\n",
    "    for k in graph:\n",
    "        nodes.append(k)\n",
    "    input= f\"An undirected graph has {len(nodes)} nodes - \"\n",
    "    for i in range(len(nodes)):\n",
    "        if i==0:\n",
    "            input += str(nodes[i])\n",
    "        elif i==len(nodes)-1:\n",
    "            input += \" and \" + str(nodes[i])\n",
    "        else:\n",
    "            input += \", \"+str(nodes[i])\n",
    "    input += \".\\n\"\n",
    "    output=\"\"\n",
    "    for node, neighbours in masked_graph.items():\n",
    "        input += get_node_info(int(node),neighbours)\n",
    "        if int(node) in nodes_masked:\n",
    "            output += get_node_info(int(node), graph[node] )\n",
    "    # print(input)\n",
    "    # print(\"------------\")\n",
    "    # print(output)\n",
    "    complete_dataset[len(complete_dataset)]={\"input\":input , \"output\":output}\n",
    "    if random.random()<0.8:\n",
    "        train_data[len(train_data)]={\"input\":input , \"output\":output}\n",
    "    elif random.random() < 0.5:\n",
    "        val_data[len(val_data)]={\"input\":input , \"output\":output}\n",
    "    else:\n",
    "        test_data[len(test_data)]={\"input\":input , \"output\":output}\n",
    "    \n",
    "    "
   ]
  },
  {
   "cell_type": "code",
   "execution_count": 126,
   "metadata": {},
   "outputs": [],
   "source": [
    "with open(complete_datafile,'w') as json_file:\n",
    "    json.dump(complete_dataset, json_file)"
   ]
  },
  {
   "cell_type": "code",
   "execution_count": 127,
   "metadata": {},
   "outputs": [],
   "source": [
    "with open(train_datafile,'w') as json_file:\n",
    "    json.dump(train_data, json_file)"
   ]
  },
  {
   "cell_type": "code",
   "execution_count": 128,
   "metadata": {},
   "outputs": [],
   "source": [
    "with open(val_datafile,'w') as json_file:\n",
    "    json.dump(val_data, json_file)\n",
    "with open(test_datafile,'w') as json_file:\n",
    "    json.dump(test_data, json_file)"
   ]
  },
  {
   "cell_type": "code",
   "execution_count": 135,
   "metadata": {},
   "outputs": [
    {
     "name": "stdout",
     "output_type": "stream",
     "text": [
      "Node 0 is connected to nodes 7, 2, 4, 1, 3 and 5.\n",
      "Node 1 is connected to nodes 4, 6, 0 and 5.\n",
      "Node 6 is connected to nodes 1 and 3.\n",
      "\n"
     ]
    }
   ],
   "source": [
    "print(complete_dataset[10]['output'])"
   ]
  },
  {
   "cell_type": "code",
   "execution_count": null,
   "metadata": {},
   "outputs": [],
   "source": []
  }
 ],
 "metadata": {
  "kernelspec": {
   "display_name": "base",
   "language": "python",
   "name": "python3"
  },
  "language_info": {
   "codemirror_mode": {
    "name": "ipython",
    "version": 3
   },
   "file_extension": ".py",
   "mimetype": "text/x-python",
   "name": "python",
   "nbconvert_exporter": "python",
   "pygments_lexer": "ipython3",
   "version": "3.11.5"
  }
 },
 "nbformat": 4,
 "nbformat_minor": 2
}
