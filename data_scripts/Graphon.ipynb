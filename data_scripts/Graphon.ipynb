{
 "cells": [
  {
   "cell_type": "code",
   "execution_count": 1,
   "metadata": {},
   "outputs": [],
   "source": [
    "# import random\n",
    "import networkx as nx\n",
    "import matplotlib.pyplot as plt\n",
    "import numpy as np"
   ]
  },
  {
   "cell_type": "code",
   "execution_count": 25,
   "metadata": {},
   "outputs": [],
   "source": [
    "min_nodes=4\n",
    "max_nodes=50\n",
    "num_graphs=1000000\n",
    "np.random.seed(42) "
   ]
  },
  {
   "cell_type": "code",
   "execution_count": 31,
   "metadata": {},
   "outputs": [],
   "source": [
    "def constant_graphon(u, v):\n",
    "    return 0.5\n",
    "\n",
    "def linear_graphon(u, v):\n",
    "    return (u*v)\n",
    "\n",
    "def quadratic_graphon(u, v):\n",
    "    return u**2 * v**2\n",
    "\n",
    "def sigmoidal_graphon(u, v):\n",
    "    return 1 / (1 + np.exp(-10*(u-v)))\n",
    "\n",
    "def randomized_graphon(u, v):\n",
    "    return np.random.rand()\n",
    "\n",
    "def step_graphon(u, v):\n",
    "    threshold = 0.5\n",
    "    return 1 if u > threshold and v > threshold else 0\n",
    "\n",
    "def sin_graphon(u, v):\n",
    "    return np.sin( np.pi * u) * np.sin( np.pi * v)\n",
    "\n",
    "def avg_graphon(u, v):\n",
    "    return (u+v)/2\n",
    "\n",
    "def exponential_decay_graphon(u, v):\n",
    "    return np.exp(-(u**2 + v**2))\n",
    "\n",
    "def checkerboard_graphon(u, v):\n",
    "    return 1 if (u*10).astype(int) % 2 == (v*10).astype(int) % 2 else 0\n",
    "\n",
    "def softmax_graphon(u, v):\n",
    "    return np.exp(u) / (np.exp(u) + np.exp(v))\n",
    "\n",
    "custom_graphons = [randomized_graphon,\n",
    "    constant_graphon,\n",
    "    linear_graphon,\n",
    "    quadratic_graphon,\n",
    "    sigmoidal_graphon,\n",
    "    randomized_graphon,\n",
    "    step_graphon,\n",
    "    sin_graphon,\n",
    "    avg_graphon,\n",
    "    exponential_decay_graphon,\n",
    "    checkerboard_graphon,\n",
    "    softmax_graphon\n",
    "]"
   ]
  },
  {
   "cell_type": "code",
   "execution_count": 27,
   "metadata": {},
   "outputs": [],
   "source": [
    "def graphon_graph(n):\n",
    "    \"\"\"\n",
    "    Generate a graphon graph with n nodes using the given graphon function w.\n",
    "    Returns:\n",
    "        G (nx.Graph): Graphon graph.\n",
    "    \"\"\"\n",
    "    W= np.random.choice(custom_graphons)\n",
    "    G = nx.Graph()\n",
    "    G.add_nodes_from(range(n))\n",
    "    U= np.random.rand(n)\n",
    "    \n",
    "    # Generate edges based on the graphon function\n",
    "    for i in range(n):\n",
    "        for j in range(i + 1, n):\n",
    "            p = W(U[i], U[j])\n",
    "            if np.random.rand() < p:\n",
    "                G.add_edge(i, j)\n",
    "\n",
    "    return G\n"
   ]
  },
  {
   "cell_type": "code",
   "execution_count": null,
   "metadata": {},
   "outputs": [],
   "source": [
    "graphs=[]\n",
    "num_nodes=[]\n",
    "for l in range(num_graphs):\n",
    "    # if l%10000==0:\n",
    "    #     print(l)\n",
    "    n = np.random.randint(min_nodes, max_nodes+1)\n",
    "    if n<=6:\n",
    "        n = np.random.randint(min_nodes, max_nodes+1)\n",
    "    G = graphon_graph(n)\n",
    "    graphs.append(G)\n",
    "    num_nodes.append(n)"
   ]
  },
  {
   "cell_type": "code",
   "execution_count": 35,
   "metadata": {},
   "outputs": [],
   "source": [
    "# n = 5\n",
    "# G = graphon_graph(n)\n",
    "# pos = nx.spring_layout(G,seed=42)  # Positioning nodes\n",
    "# nx.draw(G, pos,with_labels=True, node_color='skyblue', node_size=500, font_size=10, font_color='black')\n",
    "# plt.show()"
   ]
  },
  {
   "cell_type": "code",
   "execution_count": 57,
   "metadata": {},
   "outputs": [],
   "source": [
    "def analyze_node_distribution(num_nodes):\n",
    "    # Basic statistics\n",
    "    mean_nodes = np.mean(num_nodes)\n",
    "    median_nodes = np.median(num_nodes)\n",
    "    min_nodes = np.min(num_nodes)\n",
    "    max_nodes = np.max(num_nodes)\n",
    "    std_dev_nodes = np.std(num_nodes)\n",
    "    \n",
    "    # Histogram plot\n",
    "    plt.hist(num_nodes, bins=47, edgecolor='black')\n",
    "    plt.title('Distribution of Number of Nodes')\n",
    "    plt.xlabel('Number of Nodes')\n",
    "    plt.ylabel('Frequency')\n",
    "    plt.show()\n",
    "    \n",
    "    # Print statistics\n",
    "    print(f\"Mean Number of Nodes: {mean_nodes}\")\n",
    "    print(f\"Median Number of Nodes: {median_nodes}\")\n",
    "    print(f\"Minimum Number of Nodes: {min_nodes}\")\n",
    "    print(f\"Maximum Number of Nodes: {max_nodes}\")\n",
    "    print(f\"Standard Deviation of Number of Nodes: {std_dev_nodes}\")"
   ]
  },
  {
   "cell_type": "code",
   "execution_count": 58,
   "metadata": {},
   "outputs": [
    {
     "data": {
      "image/png": "[encoded data removed]",
      "text/plain": [
       "<Figure size 640x480 with 1 Axes>"
      ]
     },
     "metadata": {},
     "output_type": "display_data"
    },
    {
     "name": "stdout",
     "output_type": "stream",
     "text": [
      "Mean Number of Nodes: 28.399071\n",
      "Median Number of Nodes: 28.0\n",
      "Minimum Number of Nodes: 4\n",
      "Maximum Number of Nodes: 50\n",
      "Standard Deviation of Number of Nodes: 12.768328055660186\n"
     ]
    }
   ],
   "source": [
    "analyze_node_distribution(num_nodes)"
   ]
  },
  {
   "cell_type": "code",
   "execution_count": null,
   "metadata": {},
   "outputs": [],
   "source": [
    "formatted_graphs ={}\n",
    "for idx,G in enumerate(graphs):\n",
    "    # if idx%100000==0:\n",
    "    #     print(idx)\n",
    "    formatted_graphs[idx] = {node: list(G.neighbors(node))  for node in G.nodes()}\n",
    "\n"
   ]
  },
  {
   "cell_type": "code",
   "execution_count": 55,
   "metadata": {},
   "outputs": [
    {
     "data": {
      "text/plain": [
       "{0: [2, 3, 5, 6, 7, 8, 10, 11, 12, 13, 14, 15, 16, 17, 18, 19],\n",
       " 1: [2, 3, 4, 5, 6, 7, 8, 10, 11, 12, 14, 15, 16, 17, 18, 19],\n",
       " 2: [0, 1, 6, 7, 8, 11, 12, 13, 14, 15, 17, 18, 19],\n",
       " 3: [0, 1, 5, 6, 7, 8, 9, 10, 11, 12, 14, 15, 16, 17, 19],\n",
       " 4: [1, 5, 6, 7, 8, 9, 10, 11, 12, 13, 14, 15, 16, 17, 18, 19],\n",
       " 5: [0, 1, 3, 4, 6, 7, 8, 10, 11, 12, 13, 14, 15, 16, 17, 19],\n",
       " 6: [0, 1, 2, 3, 4, 5, 7, 8, 11, 15],\n",
       " 7: [0, 1, 2, 3, 4, 5, 6, 8, 10, 11, 14, 15, 17],\n",
       " 8: [0, 1, 2, 3, 4, 5, 6, 7, 15],\n",
       " 9: [3, 4, 10, 11, 12, 13, 14, 15, 16, 17, 18, 19],\n",
       " 10: [0, 1, 3, 4, 5, 7, 9, 11, 13, 14, 15, 16, 17, 18, 19],\n",
       " 11: [0, 1, 2, 3, 4, 5, 6, 7, 9, 10, 15],\n",
       " 12: [0, 1, 2, 3, 4, 5, 9, 13, 14, 15, 18, 19],\n",
       " 13: [0, 2, 4, 5, 9, 10, 12, 15, 16],\n",
       " 14: [0, 1, 2, 3, 4, 5, 7, 9, 10, 12, 15, 19],\n",
       " 15: [0, 1, 2, 3, 4, 5, 6, 7, 8, 9, 10, 11, 12, 13, 14],\n",
       " 16: [0, 1, 3, 4, 5, 9, 10, 13, 19],\n",
       " 17: [0, 1, 2, 3, 4, 5, 7, 9, 10, 19],\n",
       " 18: [0, 1, 2, 4, 9, 10, 12, 19],\n",
       " 19: [0, 1, 2, 3, 4, 5, 9, 10, 12, 14, 16, 17, 18]}"
      ]
     },
     "execution_count": 55,
     "metadata": {},
     "output_type": "execute_result"
    }
   ],
   "source": [
    "formatted_graphs[1]"
   ]
  },
  {
   "cell_type": "code",
   "execution_count": 56,
   "metadata": {},
   "outputs": [],
   "source": [
    "import json\n",
    "with open(\"../data/Graphon/All_graphs.json\",'w') as json_file:\n",
    "    json.dump(formatted_graphs, json_file)"
   ]
  },
  {
   "cell_type": "code",
   "execution_count": null,
   "metadata": {},
   "outputs": [],
   "source": []
  }
 ],
 "metadata": {
  "kernelspec": {
   "display_name": "base",
   "language": "python",
   "name": "python3"
  },
  "language_info": {
   "codemirror_mode": {
    "name": "ipython",
    "version": 3
   },
   "file_extension": ".py",
   "mimetype": "text/x-python",
   "name": "python",
   "nbconvert_exporter": "python",
   "pygments_lexer": "ipython3",
   "version": "3.11.5"
  }
 },
 "nbformat": 4,
 "nbformat_minor": 2
}
